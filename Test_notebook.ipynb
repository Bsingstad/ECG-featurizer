{
 "cells": [
  {
   "cell_type": "code",
   "execution_count": 1,
   "metadata": {},
   "outputs": [],
   "source": [
    "import wfdb\n",
    "import numpy as np\n",
    "import pandas as pd\n",
    "import neurokit2 as nk\n",
    "import wfdb\n",
    "import os\n",
    "import ast\n",
    "import numpy as np"
   ]
  },
  {
   "cell_type": "code",
   "execution_count": 2,
   "metadata": {},
   "outputs": [],
   "source": [
    "from ECGfeaturizer import featurize as ef"
   ]
  },
  {
   "cell_type": "code",
   "execution_count": 3,
   "metadata": {},
   "outputs": [],
   "source": [
    "%reload_ext autoreload"
   ]
  },
  {
   "cell_type": "code",
   "execution_count": 4,
   "metadata": {},
   "outputs": [],
   "source": [
    "directory = \"./data/\""
   ]
  },
  {
   "cell_type": "code",
   "execution_count": 5,
   "metadata": {},
   "outputs": [],
   "source": [
    "ecg_filenames = []\n",
    "for filename in os. listdir(directory):\n",
    "    ecg_filenames.append(filename[:-4])\n",
    "    "
   ]
  },
  {
   "cell_type": "code",
   "execution_count": 6,
   "metadata": {},
   "outputs": [
    {
     "data": {
      "text/plain": [
       "'./data/00001_hr'"
      ]
     },
     "execution_count": 6,
     "metadata": {},
     "output_type": "execute_result"
    }
   ],
   "source": [
    "directory + ecg_filenames[0]"
   ]
  },
  {
   "cell_type": "code",
   "execution_count": 7,
   "metadata": {},
   "outputs": [
    {
     "data": {
      "text/plain": [
       "(array([[-0.115, -0.05 ,  0.065, ..., -0.035, -0.035, -0.075],\n",
       "        [-0.115, -0.05 ,  0.065, ..., -0.035, -0.035, -0.075],\n",
       "        [-0.115, -0.05 ,  0.065, ..., -0.035, -0.035, -0.075],\n",
       "        ...,\n",
       "        [ 0.21 ,  0.205, -0.005, ...,  0.185,  0.17 ,  0.18 ],\n",
       "        [ 0.21 ,  0.205, -0.005, ...,  0.185,  0.17 ,  0.18 ],\n",
       "        [ 0.21 ,  0.205, -0.005, ...,  0.185,  0.17 ,  0.18 ]]),\n",
       " {'fs': 500,\n",
       "  'sig_len': 5000,\n",
       "  'n_sig': 12,\n",
       "  'base_date': None,\n",
       "  'base_time': None,\n",
       "  'units': ['mV',\n",
       "   'mV',\n",
       "   'mV',\n",
       "   'mV',\n",
       "   'mV',\n",
       "   'mV',\n",
       "   'mV',\n",
       "   'mV',\n",
       "   'mV',\n",
       "   'mV',\n",
       "   'mV',\n",
       "   'mV'],\n",
       "  'sig_name': ['I',\n",
       "   'II',\n",
       "   'III',\n",
       "   'AVR',\n",
       "   'AVL',\n",
       "   'AVF',\n",
       "   'V1',\n",
       "   'V2',\n",
       "   'V3',\n",
       "   'V4',\n",
       "   'V5',\n",
       "   'V6'],\n",
       "  'comments': []})"
      ]
     },
     "execution_count": 7,
     "metadata": {},
     "output_type": "execute_result"
    }
   ],
   "source": [
    "wfdb.rdsamp(directory + ecg_filenames[0])"
   ]
  },
  {
   "cell_type": "code",
   "execution_count": 8,
   "metadata": {},
   "outputs": [],
   "source": [
    "ecg_filenames = np.asarray(ecg_filenames)"
   ]
  },
  {
   "cell_type": "code",
   "execution_count": 9,
   "metadata": {},
   "outputs": [],
   "source": [
    "demo_data = pd.read_csv('ptbxl_database.csv', index_col='ecg_id')"
   ]
  },
  {
   "cell_type": "code",
   "execution_count": 10,
   "metadata": {},
   "outputs": [],
   "source": [
    "demo_data.scp_codes = demo_data.scp_codes.apply(lambda x: ast.literal_eval(x))"
   ]
  },
  {
   "cell_type": "code",
   "execution_count": 11,
   "metadata": {},
   "outputs": [],
   "source": [
    "agg_df = pd.read_csv('scp_statements.csv', index_col=0)\n",
    "agg_df = agg_df[agg_df.diagnostic == 1]"
   ]
  },
  {
   "cell_type": "code",
   "execution_count": 12,
   "metadata": {},
   "outputs": [],
   "source": [
    "def aggregate_diagnostic(y_dic):\n",
    "    tmp = []\n",
    "    for key in y_dic.keys():\n",
    "        if key in agg_df.index:\n",
    "            tmp.append(agg_df.loc[key].diagnostic_class)\n",
    "    return list(set(tmp))\n",
    "\n",
    "demo_data['diagnostic_superclass'] = demo_data.scp_codes.apply(aggregate_diagnostic)\n"
   ]
  },
  {
   "cell_type": "code",
   "execution_count": 13,
   "metadata": {},
   "outputs": [],
   "source": [
    "demo_data = demo_data.iloc[:999,:]"
   ]
  },
  {
   "cell_type": "code",
   "execution_count": 14,
   "metadata": {},
   "outputs": [
    {
     "data": {
      "text/html": [
       "<div>\n",
       "<style scoped>\n",
       "    .dataframe tbody tr th:only-of-type {\n",
       "        vertical-align: middle;\n",
       "    }\n",
       "\n",
       "    .dataframe tbody tr th {\n",
       "        vertical-align: top;\n",
       "    }\n",
       "\n",
       "    .dataframe thead th {\n",
       "        text-align: right;\n",
       "    }\n",
       "</style>\n",
       "<table border=\"1\" class=\"dataframe\">\n",
       "  <thead>\n",
       "    <tr style=\"text-align: right;\">\n",
       "      <th></th>\n",
       "      <th>patient_id</th>\n",
       "      <th>age</th>\n",
       "      <th>sex</th>\n",
       "      <th>height</th>\n",
       "      <th>weight</th>\n",
       "      <th>nurse</th>\n",
       "      <th>site</th>\n",
       "      <th>device</th>\n",
       "      <th>recording_date</th>\n",
       "      <th>report</th>\n",
       "      <th>...</th>\n",
       "      <th>baseline_drift</th>\n",
       "      <th>static_noise</th>\n",
       "      <th>burst_noise</th>\n",
       "      <th>electrodes_problems</th>\n",
       "      <th>extra_beats</th>\n",
       "      <th>pacemaker</th>\n",
       "      <th>strat_fold</th>\n",
       "      <th>filename_lr</th>\n",
       "      <th>filename_hr</th>\n",
       "      <th>diagnostic_superclass</th>\n",
       "    </tr>\n",
       "    <tr>\n",
       "      <th>ecg_id</th>\n",
       "      <th></th>\n",
       "      <th></th>\n",
       "      <th></th>\n",
       "      <th></th>\n",
       "      <th></th>\n",
       "      <th></th>\n",
       "      <th></th>\n",
       "      <th></th>\n",
       "      <th></th>\n",
       "      <th></th>\n",
       "      <th></th>\n",
       "      <th></th>\n",
       "      <th></th>\n",
       "      <th></th>\n",
       "      <th></th>\n",
       "      <th></th>\n",
       "      <th></th>\n",
       "      <th></th>\n",
       "      <th></th>\n",
       "      <th></th>\n",
       "      <th></th>\n",
       "    </tr>\n",
       "  </thead>\n",
       "  <tbody>\n",
       "    <tr>\n",
       "      <th>1</th>\n",
       "      <td>15709.0</td>\n",
       "      <td>56.0</td>\n",
       "      <td>1</td>\n",
       "      <td>NaN</td>\n",
       "      <td>63.0</td>\n",
       "      <td>2.0</td>\n",
       "      <td>0.0</td>\n",
       "      <td>CS-12   E</td>\n",
       "      <td>1984-11-09 09:17:34</td>\n",
       "      <td>sinusrhythmus periphere niederspannung</td>\n",
       "      <td>...</td>\n",
       "      <td>NaN</td>\n",
       "      <td>, I-V1,</td>\n",
       "      <td>NaN</td>\n",
       "      <td>NaN</td>\n",
       "      <td>NaN</td>\n",
       "      <td>NaN</td>\n",
       "      <td>3</td>\n",
       "      <td>records100/00000/00001_lr</td>\n",
       "      <td>records500/00000/00001_hr</td>\n",
       "      <td>[NORM]</td>\n",
       "    </tr>\n",
       "    <tr>\n",
       "      <th>2</th>\n",
       "      <td>13243.0</td>\n",
       "      <td>19.0</td>\n",
       "      <td>0</td>\n",
       "      <td>NaN</td>\n",
       "      <td>70.0</td>\n",
       "      <td>2.0</td>\n",
       "      <td>0.0</td>\n",
       "      <td>CS-12   E</td>\n",
       "      <td>1984-11-14 12:55:37</td>\n",
       "      <td>sinusbradykardie sonst normales ekg</td>\n",
       "      <td>...</td>\n",
       "      <td>NaN</td>\n",
       "      <td>NaN</td>\n",
       "      <td>NaN</td>\n",
       "      <td>NaN</td>\n",
       "      <td>NaN</td>\n",
       "      <td>NaN</td>\n",
       "      <td>2</td>\n",
       "      <td>records100/00000/00002_lr</td>\n",
       "      <td>records500/00000/00002_hr</td>\n",
       "      <td>[NORM]</td>\n",
       "    </tr>\n",
       "    <tr>\n",
       "      <th>3</th>\n",
       "      <td>20372.0</td>\n",
       "      <td>37.0</td>\n",
       "      <td>1</td>\n",
       "      <td>NaN</td>\n",
       "      <td>69.0</td>\n",
       "      <td>2.0</td>\n",
       "      <td>0.0</td>\n",
       "      <td>CS-12   E</td>\n",
       "      <td>1984-11-15 12:49:10</td>\n",
       "      <td>sinusrhythmus normales ekg</td>\n",
       "      <td>...</td>\n",
       "      <td>NaN</td>\n",
       "      <td>NaN</td>\n",
       "      <td>NaN</td>\n",
       "      <td>NaN</td>\n",
       "      <td>NaN</td>\n",
       "      <td>NaN</td>\n",
       "      <td>5</td>\n",
       "      <td>records100/00000/00003_lr</td>\n",
       "      <td>records500/00000/00003_hr</td>\n",
       "      <td>[NORM]</td>\n",
       "    </tr>\n",
       "    <tr>\n",
       "      <th>4</th>\n",
       "      <td>17014.0</td>\n",
       "      <td>24.0</td>\n",
       "      <td>0</td>\n",
       "      <td>NaN</td>\n",
       "      <td>82.0</td>\n",
       "      <td>2.0</td>\n",
       "      <td>0.0</td>\n",
       "      <td>CS-12   E</td>\n",
       "      <td>1984-11-15 13:44:57</td>\n",
       "      <td>sinusrhythmus normales ekg</td>\n",
       "      <td>...</td>\n",
       "      <td>, II,III,AVF</td>\n",
       "      <td>NaN</td>\n",
       "      <td>NaN</td>\n",
       "      <td>NaN</td>\n",
       "      <td>NaN</td>\n",
       "      <td>NaN</td>\n",
       "      <td>3</td>\n",
       "      <td>records100/00000/00004_lr</td>\n",
       "      <td>records500/00000/00004_hr</td>\n",
       "      <td>[NORM]</td>\n",
       "    </tr>\n",
       "    <tr>\n",
       "      <th>5</th>\n",
       "      <td>17448.0</td>\n",
       "      <td>19.0</td>\n",
       "      <td>1</td>\n",
       "      <td>NaN</td>\n",
       "      <td>70.0</td>\n",
       "      <td>2.0</td>\n",
       "      <td>0.0</td>\n",
       "      <td>CS-12   E</td>\n",
       "      <td>1984-11-17 10:43:15</td>\n",
       "      <td>sinusrhythmus normales ekg</td>\n",
       "      <td>...</td>\n",
       "      <td>, III,AVR,AVF</td>\n",
       "      <td>NaN</td>\n",
       "      <td>NaN</td>\n",
       "      <td>NaN</td>\n",
       "      <td>NaN</td>\n",
       "      <td>NaN</td>\n",
       "      <td>4</td>\n",
       "      <td>records100/00000/00005_lr</td>\n",
       "      <td>records500/00000/00005_hr</td>\n",
       "      <td>[NORM]</td>\n",
       "    </tr>\n",
       "    <tr>\n",
       "      <th>...</th>\n",
       "      <td>...</td>\n",
       "      <td>...</td>\n",
       "      <td>...</td>\n",
       "      <td>...</td>\n",
       "      <td>...</td>\n",
       "      <td>...</td>\n",
       "      <td>...</td>\n",
       "      <td>...</td>\n",
       "      <td>...</td>\n",
       "      <td>...</td>\n",
       "      <td>...</td>\n",
       "      <td>...</td>\n",
       "      <td>...</td>\n",
       "      <td>...</td>\n",
       "      <td>...</td>\n",
       "      <td>...</td>\n",
       "      <td>...</td>\n",
       "      <td>...</td>\n",
       "      <td>...</td>\n",
       "      <td>...</td>\n",
       "      <td>...</td>\n",
       "    </tr>\n",
       "    <tr>\n",
       "      <th>995</th>\n",
       "      <td>6672.0</td>\n",
       "      <td>86.0</td>\n",
       "      <td>1</td>\n",
       "      <td>165.0</td>\n",
       "      <td>73.0</td>\n",
       "      <td>9.0</td>\n",
       "      <td>1.0</td>\n",
       "      <td>AT-6     6</td>\n",
       "      <td>1987-07-27 12:43:35</td>\n",
       "      <td>sinus tachycardia. pr interval slightly long f...</td>\n",
       "      <td>...</td>\n",
       "      <td>NaN</td>\n",
       "      <td>NaN</td>\n",
       "      <td>NaN</td>\n",
       "      <td>NaN</td>\n",
       "      <td>NaN</td>\n",
       "      <td>NaN</td>\n",
       "      <td>2</td>\n",
       "      <td>records100/00000/00995_lr</td>\n",
       "      <td>records500/00000/00995_hr</td>\n",
       "      <td>[NORM]</td>\n",
       "    </tr>\n",
       "    <tr>\n",
       "      <th>996</th>\n",
       "      <td>1010.0</td>\n",
       "      <td>85.0</td>\n",
       "      <td>1</td>\n",
       "      <td>163.0</td>\n",
       "      <td>53.0</td>\n",
       "      <td>6.0</td>\n",
       "      <td>1.0</td>\n",
       "      <td>AT-6 C 5.8</td>\n",
       "      <td>1987-07-27 13:27:40</td>\n",
       "      <td>sinus rhythm. non-specific t wave flattening i...</td>\n",
       "      <td>...</td>\n",
       "      <td>NaN</td>\n",
       "      <td>NaN</td>\n",
       "      <td>NaN</td>\n",
       "      <td>NaN</td>\n",
       "      <td>NaN</td>\n",
       "      <td>NaN</td>\n",
       "      <td>5</td>\n",
       "      <td>records100/00000/00996_lr</td>\n",
       "      <td>records500/00000/00996_hr</td>\n",
       "      <td>[MI]</td>\n",
       "    </tr>\n",
       "    <tr>\n",
       "      <th>997</th>\n",
       "      <td>381.0</td>\n",
       "      <td>85.0</td>\n",
       "      <td>1</td>\n",
       "      <td>158.0</td>\n",
       "      <td>50.0</td>\n",
       "      <td>6.0</td>\n",
       "      <td>1.0</td>\n",
       "      <td>AT-6     6</td>\n",
       "      <td>1987-07-29 08:23:24</td>\n",
       "      <td>sinus rhythm. t waves are inverted in ii, iii,...</td>\n",
       "      <td>...</td>\n",
       "      <td>NaN</td>\n",
       "      <td>NaN</td>\n",
       "      <td>NaN</td>\n",
       "      <td>NaN</td>\n",
       "      <td>NaN</td>\n",
       "      <td>NaN</td>\n",
       "      <td>3</td>\n",
       "      <td>records100/00000/00997_lr</td>\n",
       "      <td>records500/00000/00997_hr</td>\n",
       "      <td>[MI]</td>\n",
       "    </tr>\n",
       "    <tr>\n",
       "      <th>998</th>\n",
       "      <td>6058.0</td>\n",
       "      <td>80.0</td>\n",
       "      <td>0</td>\n",
       "      <td>173.0</td>\n",
       "      <td>84.0</td>\n",
       "      <td>1.0</td>\n",
       "      <td>1.0</td>\n",
       "      <td>AT-6     6</td>\n",
       "      <td>1987-07-29 10:15:33</td>\n",
       "      <td>premature ventricular contraction(s). sinus rh...</td>\n",
       "      <td>...</td>\n",
       "      <td>NaN</td>\n",
       "      <td>NaN</td>\n",
       "      <td>NaN</td>\n",
       "      <td>NaN</td>\n",
       "      <td>NaN</td>\n",
       "      <td>NaN</td>\n",
       "      <td>7</td>\n",
       "      <td>records100/00000/00998_lr</td>\n",
       "      <td>records500/00000/00998_hr</td>\n",
       "      <td>[HYP, CD]</td>\n",
       "    </tr>\n",
       "    <tr>\n",
       "      <th>999</th>\n",
       "      <td>1497.0</td>\n",
       "      <td>73.0</td>\n",
       "      <td>0</td>\n",
       "      <td>180.0</td>\n",
       "      <td>73.0</td>\n",
       "      <td>7.0</td>\n",
       "      <td>1.0</td>\n",
       "      <td>AT-6 C 5.5</td>\n",
       "      <td>1987-07-29 11:18:06</td>\n",
       "      <td>sinus rhythm. normal ecg.</td>\n",
       "      <td>...</td>\n",
       "      <td>NaN</td>\n",
       "      <td>NaN</td>\n",
       "      <td>NaN</td>\n",
       "      <td>NaN</td>\n",
       "      <td>NaN</td>\n",
       "      <td>NaN</td>\n",
       "      <td>9</td>\n",
       "      <td>records100/00000/00999_lr</td>\n",
       "      <td>records500/00000/00999_hr</td>\n",
       "      <td>[NORM]</td>\n",
       "    </tr>\n",
       "  </tbody>\n",
       "</table>\n",
       "<p>999 rows × 28 columns</p>\n",
       "</div>"
      ],
      "text/plain": [
       "        patient_id   age  sex  height  weight  nurse  site      device  \\\n",
       "ecg_id                                                                   \n",
       "1          15709.0  56.0    1     NaN    63.0    2.0   0.0   CS-12   E   \n",
       "2          13243.0  19.0    0     NaN    70.0    2.0   0.0   CS-12   E   \n",
       "3          20372.0  37.0    1     NaN    69.0    2.0   0.0   CS-12   E   \n",
       "4          17014.0  24.0    0     NaN    82.0    2.0   0.0   CS-12   E   \n",
       "5          17448.0  19.0    1     NaN    70.0    2.0   0.0   CS-12   E   \n",
       "...            ...   ...  ...     ...     ...    ...   ...         ...   \n",
       "995         6672.0  86.0    1   165.0    73.0    9.0   1.0  AT-6     6   \n",
       "996         1010.0  85.0    1   163.0    53.0    6.0   1.0  AT-6 C 5.8   \n",
       "997          381.0  85.0    1   158.0    50.0    6.0   1.0  AT-6     6   \n",
       "998         6058.0  80.0    0   173.0    84.0    1.0   1.0  AT-6     6   \n",
       "999         1497.0  73.0    0   180.0    73.0    7.0   1.0  AT-6 C 5.5   \n",
       "\n",
       "             recording_date  \\\n",
       "ecg_id                        \n",
       "1       1984-11-09 09:17:34   \n",
       "2       1984-11-14 12:55:37   \n",
       "3       1984-11-15 12:49:10   \n",
       "4       1984-11-15 13:44:57   \n",
       "5       1984-11-17 10:43:15   \n",
       "...                     ...   \n",
       "995     1987-07-27 12:43:35   \n",
       "996     1987-07-27 13:27:40   \n",
       "997     1987-07-29 08:23:24   \n",
       "998     1987-07-29 10:15:33   \n",
       "999     1987-07-29 11:18:06   \n",
       "\n",
       "                                                   report  ...  \\\n",
       "ecg_id                                                     ...   \n",
       "1                  sinusrhythmus periphere niederspannung  ...   \n",
       "2                     sinusbradykardie sonst normales ekg  ...   \n",
       "3                              sinusrhythmus normales ekg  ...   \n",
       "4                              sinusrhythmus normales ekg  ...   \n",
       "5                              sinusrhythmus normales ekg  ...   \n",
       "...                                                   ...  ...   \n",
       "995     sinus tachycardia. pr interval slightly long f...  ...   \n",
       "996     sinus rhythm. non-specific t wave flattening i...  ...   \n",
       "997     sinus rhythm. t waves are inverted in ii, iii,...  ...   \n",
       "998     premature ventricular contraction(s). sinus rh...  ...   \n",
       "999                             sinus rhythm. normal ecg.  ...   \n",
       "\n",
       "        baseline_drift static_noise burst_noise electrodes_problems  \\\n",
       "ecg_id                                                                \n",
       "1                  NaN    , I-V1,           NaN                 NaN   \n",
       "2                  NaN          NaN         NaN                 NaN   \n",
       "3                  NaN          NaN         NaN                 NaN   \n",
       "4         , II,III,AVF          NaN         NaN                 NaN   \n",
       "5        , III,AVR,AVF          NaN         NaN                 NaN   \n",
       "...                ...          ...         ...                 ...   \n",
       "995                NaN          NaN         NaN                 NaN   \n",
       "996                NaN          NaN         NaN                 NaN   \n",
       "997                NaN          NaN         NaN                 NaN   \n",
       "998                NaN          NaN         NaN                 NaN   \n",
       "999                NaN          NaN         NaN                 NaN   \n",
       "\n",
       "        extra_beats  pacemaker  strat_fold                filename_lr  \\\n",
       "ecg_id                                                                  \n",
       "1               NaN        NaN           3  records100/00000/00001_lr   \n",
       "2               NaN        NaN           2  records100/00000/00002_lr   \n",
       "3               NaN        NaN           5  records100/00000/00003_lr   \n",
       "4               NaN        NaN           3  records100/00000/00004_lr   \n",
       "5               NaN        NaN           4  records100/00000/00005_lr   \n",
       "...             ...        ...         ...                        ...   \n",
       "995             NaN        NaN           2  records100/00000/00995_lr   \n",
       "996             NaN        NaN           5  records100/00000/00996_lr   \n",
       "997             NaN        NaN           3  records100/00000/00997_lr   \n",
       "998             NaN        NaN           7  records100/00000/00998_lr   \n",
       "999             NaN        NaN           9  records100/00000/00999_lr   \n",
       "\n",
       "                      filename_hr diagnostic_superclass  \n",
       "ecg_id                                                   \n",
       "1       records500/00000/00001_hr                [NORM]  \n",
       "2       records500/00000/00002_hr                [NORM]  \n",
       "3       records500/00000/00003_hr                [NORM]  \n",
       "4       records500/00000/00004_hr                [NORM]  \n",
       "5       records500/00000/00005_hr                [NORM]  \n",
       "...                           ...                   ...  \n",
       "995     records500/00000/00995_hr                [NORM]  \n",
       "996     records500/00000/00996_hr                  [MI]  \n",
       "997     records500/00000/00997_hr                  [MI]  \n",
       "998     records500/00000/00998_hr             [HYP, CD]  \n",
       "999     records500/00000/00999_hr                [NORM]  \n",
       "\n",
       "[999 rows x 28 columns]"
      ]
     },
     "execution_count": 14,
     "metadata": {},
     "output_type": "execute_result"
    }
   ],
   "source": [
    "demo_data"
   ]
  },
  {
   "cell_type": "code",
   "execution_count": 15,
   "metadata": {},
   "outputs": [],
   "source": [
    "labels = np.asarray(demo_data['diagnostic_superclass'])"
   ]
  },
  {
   "cell_type": "code",
   "execution_count": 26,
   "metadata": {},
   "outputs": [],
   "source": [
    "My_features =ef.get_features()"
   ]
  },
  {
   "cell_type": "code",
   "execution_count": null,
   "metadata": {},
   "outputs": [
    {
     "name": "stdout",
     "output_type": "stream",
     "text": [
      "1 out of 1 succeeded\n",
      "2 out of 2 succeeded\n",
      "3 out of 3 succeeded\n",
      "4 out of 4 succeeded\n",
      "5 out of 5 succeeded\n",
      "6 out of 6 succeeded\n"
     ]
    },
    {
     "name": "stderr",
     "output_type": "stream",
     "text": [
      "C:\\Users\\Bjorn\\anaconda3\\envs\\ecgfeaturizer\\lib\\site-packages\\numpy\\core\\fromnumeric.py:3372: RuntimeWarning: Mean of empty slice.\n",
      "  return _methods._mean(a, axis=axis, dtype=dtype,\n",
      "C:\\Users\\Bjorn\\anaconda3\\envs\\ecgfeaturizer\\lib\\site-packages\\numpy\\core\\_methods.py:170: RuntimeWarning: invalid value encountered in double_scalars\n",
      "  ret = ret.dtype.type(ret / rcount)\n"
     ]
    },
    {
     "name": "stdout",
     "output_type": "stream",
     "text": [
      "7 out of 7 succeeded\n"
     ]
    },
    {
     "name": "stderr",
     "output_type": "stream",
     "text": [
      "C:\\Users\\Bjorn\\anaconda3\\envs\\ecgfeaturizer\\lib\\site-packages\\numpy\\core\\fromnumeric.py:3372: RuntimeWarning: Mean of empty slice.\n",
      "  return _methods._mean(a, axis=axis, dtype=dtype,\n",
      "C:\\Users\\Bjorn\\anaconda3\\envs\\ecgfeaturizer\\lib\\site-packages\\numpy\\core\\_methods.py:170: RuntimeWarning: invalid value encountered in double_scalars\n",
      "  ret = ret.dtype.type(ret / rcount)\n"
     ]
    },
    {
     "name": "stdout",
     "output_type": "stream",
     "text": [
      "8 out of 8 succeeded\n"
     ]
    },
    {
     "name": "stderr",
     "output_type": "stream",
     "text": [
      "C:\\Users\\Bjorn\\anaconda3\\envs\\ecgfeaturizer\\lib\\site-packages\\numpy\\core\\fromnumeric.py:3372: RuntimeWarning: Mean of empty slice.\n",
      "  return _methods._mean(a, axis=axis, dtype=dtype,\n",
      "C:\\Users\\Bjorn\\anaconda3\\envs\\ecgfeaturizer\\lib\\site-packages\\numpy\\core\\_methods.py:170: RuntimeWarning: invalid value encountered in double_scalars\n",
      "  ret = ret.dtype.type(ret / rcount)\n"
     ]
    },
    {
     "name": "stdout",
     "output_type": "stream",
     "text": [
      "9 out of 9 succeeded\n"
     ]
    },
    {
     "name": "stderr",
     "output_type": "stream",
     "text": [
      "C:\\Users\\Bjorn\\anaconda3\\envs\\ecgfeaturizer\\lib\\site-packages\\numpy\\core\\fromnumeric.py:3372: RuntimeWarning: Mean of empty slice.\n",
      "  return _methods._mean(a, axis=axis, dtype=dtype,\n",
      "C:\\Users\\Bjorn\\anaconda3\\envs\\ecgfeaturizer\\lib\\site-packages\\numpy\\core\\_methods.py:170: RuntimeWarning: invalid value encountered in double_scalars\n",
      "  ret = ret.dtype.type(ret / rcount)\n"
     ]
    },
    {
     "name": "stdout",
     "output_type": "stream",
     "text": [
      "10 out of 10 succeeded\n",
      "11 out of 11 succeeded\n",
      "12 out of 12 succeeded\n"
     ]
    },
    {
     "name": "stderr",
     "output_type": "stream",
     "text": [
      "C:\\Users\\Bjorn\\anaconda3\\envs\\ecgfeaturizer\\lib\\site-packages\\numpy\\core\\fromnumeric.py:3372: RuntimeWarning: Mean of empty slice.\n",
      "  return _methods._mean(a, axis=axis, dtype=dtype,\n",
      "C:\\Users\\Bjorn\\anaconda3\\envs\\ecgfeaturizer\\lib\\site-packages\\numpy\\core\\_methods.py:170: RuntimeWarning: invalid value encountered in double_scalars\n",
      "  ret = ret.dtype.type(ret / rcount)\n"
     ]
    },
    {
     "name": "stdout",
     "output_type": "stream",
     "text": [
      "13 out of 13 succeeded\n"
     ]
    },
    {
     "name": "stderr",
     "output_type": "stream",
     "text": [
      "C:\\Users\\Bjorn\\anaconda3\\envs\\ecgfeaturizer\\lib\\site-packages\\numpy\\core\\fromnumeric.py:3372: RuntimeWarning: Mean of empty slice.\n",
      "  return _methods._mean(a, axis=axis, dtype=dtype,\n",
      "C:\\Users\\Bjorn\\anaconda3\\envs\\ecgfeaturizer\\lib\\site-packages\\numpy\\core\\_methods.py:170: RuntimeWarning: invalid value encountered in double_scalars\n",
      "  ret = ret.dtype.type(ret / rcount)\n"
     ]
    },
    {
     "name": "stdout",
     "output_type": "stream",
     "text": [
      "14 out of 14 succeeded\n",
      "15 out of 15 succeeded\n",
      "Not able to get calculate Q, S peaks and features related to them\n",
      "Future version will deal with this\n",
      "16 out of 17 succeeded\n",
      "17 out of 18 succeeded\n",
      "18 out of 19 succeeded\n",
      "19 out of 20 succeeded\n",
      "20 out of 21 succeeded\n",
      "21 out of 22 succeeded\n",
      "22 out of 23 succeeded\n",
      "23 out of 24 succeeded\n",
      "24 out of 25 succeeded\n",
      "25 out of 26 succeeded\n",
      "26 out of 27 succeeded\n",
      "27 out of 28 succeeded\n",
      "28 out of 29 succeeded\n",
      "29 out of 30 succeeded\n"
     ]
    },
    {
     "name": "stderr",
     "output_type": "stream",
     "text": [
      "C:\\Users\\Bjorn\\anaconda3\\envs\\ecgfeaturizer\\lib\\site-packages\\numpy\\core\\fromnumeric.py:3372: RuntimeWarning: Mean of empty slice.\n",
      "  return _methods._mean(a, axis=axis, dtype=dtype,\n",
      "C:\\Users\\Bjorn\\anaconda3\\envs\\ecgfeaturizer\\lib\\site-packages\\numpy\\core\\_methods.py:170: RuntimeWarning: invalid value encountered in double_scalars\n",
      "  ret = ret.dtype.type(ret / rcount)\n"
     ]
    },
    {
     "name": "stdout",
     "output_type": "stream",
     "text": [
      "30 out of 31 succeeded\n"
     ]
    },
    {
     "name": "stderr",
     "output_type": "stream",
     "text": [
      "C:\\Users\\Bjorn\\anaconda3\\envs\\ecgfeaturizer\\lib\\site-packages\\numpy\\core\\fromnumeric.py:3372: RuntimeWarning: Mean of empty slice.\n",
      "  return _methods._mean(a, axis=axis, dtype=dtype,\n",
      "C:\\Users\\Bjorn\\anaconda3\\envs\\ecgfeaturizer\\lib\\site-packages\\numpy\\core\\_methods.py:170: RuntimeWarning: invalid value encountered in double_scalars\n",
      "  ret = ret.dtype.type(ret / rcount)\n"
     ]
    },
    {
     "name": "stdout",
     "output_type": "stream",
     "text": [
      "31 out of 32 succeeded\n"
     ]
    },
    {
     "name": "stderr",
     "output_type": "stream",
     "text": [
      "C:\\Users\\Bjorn\\anaconda3\\envs\\ecgfeaturizer\\lib\\site-packages\\numpy\\core\\fromnumeric.py:3372: RuntimeWarning: Mean of empty slice.\n",
      "  return _methods._mean(a, axis=axis, dtype=dtype,\n",
      "C:\\Users\\Bjorn\\anaconda3\\envs\\ecgfeaturizer\\lib\\site-packages\\numpy\\core\\_methods.py:170: RuntimeWarning: invalid value encountered in double_scalars\n",
      "  ret = ret.dtype.type(ret / rcount)\n"
     ]
    },
    {
     "name": "stdout",
     "output_type": "stream",
     "text": [
      "32 out of 33 succeeded\n"
     ]
    },
    {
     "name": "stderr",
     "output_type": "stream",
     "text": [
      "C:\\Users\\Bjorn\\anaconda3\\envs\\ecgfeaturizer\\lib\\site-packages\\numpy\\core\\fromnumeric.py:3372: RuntimeWarning: Mean of empty slice.\n",
      "  return _methods._mean(a, axis=axis, dtype=dtype,\n",
      "C:\\Users\\Bjorn\\anaconda3\\envs\\ecgfeaturizer\\lib\\site-packages\\numpy\\core\\_methods.py:170: RuntimeWarning: invalid value encountered in double_scalars\n",
      "  ret = ret.dtype.type(ret / rcount)\n"
     ]
    },
    {
     "name": "stdout",
     "output_type": "stream",
     "text": [
      "33 out of 34 succeeded\n",
      "Not able to get calculate Q, S peaks and features related to them\n",
      "Future version will deal with this\n",
      "34 out of 36 succeeded\n",
      "35 out of 37 succeeded\n",
      "36 out of 38 succeeded\n",
      "37 out of 39 succeeded\n",
      "38 out of 40 succeeded\n",
      "39 out of 41 succeeded\n",
      "40 out of 42 succeeded\n",
      "41 out of 43 succeeded\n",
      "42 out of 44 succeeded\n",
      "43 out of 45 succeeded\n",
      "44 out of 46 succeeded\n",
      "45 out of 47 succeeded\n",
      "46 out of 48 succeeded\n",
      "Not able to get calculate Q, S peaks and features related to them\n",
      "Future version will deal with this\n",
      "Not able to get calculate Q, S peaks and features related to them\n",
      "Future version will deal with this\n",
      "47 out of 51 succeeded\n",
      "48 out of 52 succeeded\n",
      "49 out of 53 succeeded\n",
      "50 out of 54 succeeded\n"
     ]
    },
    {
     "name": "stderr",
     "output_type": "stream",
     "text": [
      "C:\\Users\\Bjorn\\anaconda3\\envs\\ecgfeaturizer\\lib\\site-packages\\numpy\\core\\fromnumeric.py:3372: RuntimeWarning: Mean of empty slice.\n",
      "  return _methods._mean(a, axis=axis, dtype=dtype,\n",
      "C:\\Users\\Bjorn\\anaconda3\\envs\\ecgfeaturizer\\lib\\site-packages\\numpy\\core\\_methods.py:170: RuntimeWarning: invalid value encountered in double_scalars\n",
      "  ret = ret.dtype.type(ret / rcount)\n"
     ]
    },
    {
     "name": "stdout",
     "output_type": "stream",
     "text": [
      "51 out of 55 succeeded\n"
     ]
    },
    {
     "name": "stderr",
     "output_type": "stream",
     "text": [
      "C:\\Users\\Bjorn\\anaconda3\\envs\\ecgfeaturizer\\lib\\site-packages\\numpy\\core\\fromnumeric.py:3372: RuntimeWarning: Mean of empty slice.\n",
      "  return _methods._mean(a, axis=axis, dtype=dtype,\n",
      "C:\\Users\\Bjorn\\anaconda3\\envs\\ecgfeaturizer\\lib\\site-packages\\numpy\\core\\_methods.py:170: RuntimeWarning: invalid value encountered in double_scalars\n",
      "  ret = ret.dtype.type(ret / rcount)\n"
     ]
    },
    {
     "name": "stdout",
     "output_type": "stream",
     "text": [
      "52 out of 56 succeeded\n",
      "53 out of 57 succeeded\n",
      "54 out of 58 succeeded\n",
      "55 out of 59 succeeded\n",
      "56 out of 60 succeeded\n",
      "57 out of 61 succeeded\n",
      "58 out of 62 succeeded\n"
     ]
    },
    {
     "name": "stderr",
     "output_type": "stream",
     "text": [
      "C:\\Users\\Bjorn\\anaconda3\\envs\\ecgfeaturizer\\lib\\site-packages\\numpy\\core\\fromnumeric.py:3372: RuntimeWarning: Mean of empty slice.\n",
      "  return _methods._mean(a, axis=axis, dtype=dtype,\n",
      "C:\\Users\\Bjorn\\anaconda3\\envs\\ecgfeaturizer\\lib\\site-packages\\numpy\\core\\_methods.py:170: RuntimeWarning: invalid value encountered in double_scalars\n",
      "  ret = ret.dtype.type(ret / rcount)\n"
     ]
    },
    {
     "name": "stdout",
     "output_type": "stream",
     "text": [
      "59 out of 63 succeeded\n"
     ]
    },
    {
     "name": "stderr",
     "output_type": "stream",
     "text": [
      "C:\\Users\\Bjorn\\anaconda3\\envs\\ecgfeaturizer\\lib\\site-packages\\numpy\\core\\fromnumeric.py:3372: RuntimeWarning: Mean of empty slice.\n",
      "  return _methods._mean(a, axis=axis, dtype=dtype,\n",
      "C:\\Users\\Bjorn\\anaconda3\\envs\\ecgfeaturizer\\lib\\site-packages\\numpy\\core\\_methods.py:170: RuntimeWarning: invalid value encountered in double_scalars\n",
      "  ret = ret.dtype.type(ret / rcount)\n"
     ]
    },
    {
     "name": "stdout",
     "output_type": "stream",
     "text": [
      "60 out of 64 succeeded\n",
      "61 out of 65 succeeded\n",
      "62 out of 66 succeeded\n",
      "63 out of 67 succeeded\n",
      "Not able to get calculate Q, S peaks and features related to them\n",
      "Future version will deal with this\n",
      "Not able to get calculate Q, S peaks and features related to them\n",
      "Future version will deal with this\n",
      "64 out of 70 succeeded\n",
      "65 out of 71 succeeded\n",
      "66 out of 72 succeeded\n",
      "67 out of 73 succeeded\n",
      "68 out of 74 succeeded\n",
      "69 out of 75 succeeded\n",
      "70 out of 76 succeeded\n",
      "71 out of 77 succeeded\n",
      "72 out of 78 succeeded\n",
      "73 out of 79 succeeded\n",
      "74 out of 80 succeeded\n",
      "75 out of 81 succeeded\n",
      "76 out of 82 succeeded\n",
      "77 out of 83 succeeded\n",
      "78 out of 84 succeeded\n",
      "79 out of 85 succeeded\n",
      "80 out of 86 succeeded\n",
      "81 out of 87 succeeded\n",
      "82 out of 88 succeeded\n",
      "83 out of 89 succeeded\n",
      "84 out of 90 succeeded\n",
      "85 out of 91 succeeded\n",
      "86 out of 92 succeeded\n",
      "87 out of 93 succeeded\n",
      "88 out of 94 succeeded\n"
     ]
    }
   ],
   "source": [
    "Myfeatures=My_features.featurizer(features=ecg_filenames,labels=labels,directory=\"./data/\",demographical_data=demo_data)"
   ]
  },
  {
   "cell_type": "code",
   "execution_count": 16,
   "metadata": {},
   "outputs": [
    {
     "name": "stdout",
     "output_type": "stream",
     "text": [
      "Note: you may need to restart the kernel to use updated packages.\n"
     ]
    }
   ],
   "source": [
    "pip freeze > requirements_new.txt"
   ]
  },
  {
   "cell_type": "code",
   "execution_count": 21,
   "metadata": {},
   "outputs": [
    {
     "name": "stdout",
     "output_type": "stream",
     "text": [
      "0.0.41\n"
     ]
    }
   ],
   "source": [
    " print (nk.__version__)"
   ]
  },
  {
   "cell_type": "code",
   "execution_count": null,
   "metadata": {},
   "outputs": [],
   "source": []
  }
 ],
 "metadata": {
  "kernelspec": {
   "display_name": "Python 3",
   "language": "python",
   "name": "python3"
  },
  "language_info": {
   "codemirror_mode": {
    "name": "ipython",
    "version": 3
   },
   "file_extension": ".py",
   "mimetype": "text/x-python",
   "name": "python",
   "nbconvert_exporter": "python",
   "pygments_lexer": "ipython3",
   "version": "3.8.5"
  }
 },
 "nbformat": 4,
 "nbformat_minor": 4
}
